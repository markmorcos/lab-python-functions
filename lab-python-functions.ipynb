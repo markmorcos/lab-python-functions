{
 "cells": [
  {
   "cell_type": "markdown",
   "id": "25d7736c-ba17-4aff-b6bb-66eba20fbf4e",
   "metadata": {},
   "source": [
    "# Lab | Functions"
   ]
  },
  {
   "cell_type": "markdown",
   "id": "0c581062-8967-4d93-b06e-62833222f930",
   "metadata": {
    "tags": []
   },
   "source": [
    "## Exercise: Managing Customer Orders with Functions\n",
    "\n",
    "In the previous exercise, you improved the code for managing customer orders by using loops and flow control. Now, let's take it a step further and refactor the code by introducing functions.\n",
    "\n",
    "Follow the steps below to complete the exercise:\n",
    "\n",
    "1. Define a function named `initialize_inventory` that takes `products` as a parameter. Inside the function, implement the code for initializing the inventory dictionary using a loop and user input.\n",
    "\n",
    "2. Define a function named `get_customer_orders` that takes no parameters. Inside the function, implement the code for prompting the user to enter the product names using a loop. The function should return the `customer_orders` set.\n",
    "\n",
    "3. Define a function named `update_inventory` that takes `customer_orders` and `inventory` as parameters. Inside the function, implement the code for updating the inventory dictionary based on the customer orders.\n",
    "\n",
    "4. Define a function named `calculate_order_statistics` that takes `customer_orders` and `products` as parameters. Inside the function, implement the code for calculating the order statistics (total products ordered, and percentage of unique products ordered). The function should return these values.\n",
    "\n",
    "5. Define a function named `print_order_statistics` that takes `order_statistics` as a parameter. Inside the function, implement the code for printing the order statistics.\n",
    "\n",
    "6. Define a function named `print_updated_inventory` that takes `inventory` as a parameter. Inside the function, implement the code for printing the updated inventory.\n",
    "\n",
    "7. Call the functions in the appropriate sequence to execute the program and manage customer orders.\n",
    "\n",
    "Hints for functions:\n",
    "\n",
    "- Consider the input parameters required for each function and their return values.\n",
    "- Utilize function parameters and return values to transfer data between functions.\n",
    "- Test your functions individually to ensure they work correctly.\n",
    "\n",
    "\n"
   ]
  },
  {
   "cell_type": "code",
   "execution_count": 3,
   "id": "30b3f3bb-2241-490c-9e10-9844f3daff90",
   "metadata": {},
   "outputs": [],
   "source": [
    "# 1.\n",
    "def initialize_inventory(products):\n",
    "    inventory = {}\n",
    "    for product in products:\n",
    "        quantity = int(input(f\"{product} quantity:\"))\n",
    "        inventory[product] = quantity\n",
    "    return inventory"
   ]
  },
  {
   "cell_type": "code",
   "execution_count": 4,
   "id": "8158071c-fcbc-44eb-8f53-ae7700f8d325",
   "metadata": {},
   "outputs": [],
   "source": [
    "# 2.\n",
    "def get_customer_orders():\n",
    "    customer_orders = set()\n",
    "    while True:\n",
    "        product = input(\"Enter a product to order:\")\n",
    "        if product in products:\n",
    "            if product in customer_orders: print(f\"{product} already in cart\")\n",
    "            else: print(f\"{product} added to cart\")\n",
    "            customer_orders.add(product)\n",
    "        else: print(f\"{product} does not exist\")\n",
    "        prompt = input(\"Do you want to add more products? (yes/no)\")\n",
    "        if prompt != \"yes\": break\n",
    "    return customer_orders"
   ]
  },
  {
   "cell_type": "code",
   "execution_count": 5,
   "id": "8d68b138-4f86-4d57-b35f-9795afeaabc9",
   "metadata": {},
   "outputs": [],
   "source": [
    "# 3.\n",
    "def update_inventory(customer_orders, inventory):\n",
    "    for product in customer_orders: inventory[product] -= 1"
   ]
  },
  {
   "cell_type": "code",
   "execution_count": 6,
   "id": "64f1cca2-26e3-4e0f-b9d0-d4ccf2c0f605",
   "metadata": {},
   "outputs": [],
   "source": [
    "# 4.\n",
    "def calculate_order_statistics(customer_orders, products):\n",
    "    total_products_ordered = len(customer_orders)\n",
    "    total_products = len(products)\n",
    "    products_ordered_percentage = total_products_ordered / total_products\n",
    "    return (total_products_ordered, products_ordered_percentage)"
   ]
  },
  {
   "cell_type": "code",
   "execution_count": 7,
   "id": "1a605db7-97e7-458a-b6ef-8b9416abacf7",
   "metadata": {},
   "outputs": [],
   "source": [
    "# 5.\n",
    "def print_order_statistics(order_status):\n",
    "    print(\"Order Statistics:\")\n",
    "    print(f\"Total Products Ordered: {order_status[0]}\")\n",
    "    print(f\"Percentage of Products Ordered: {round(order_status[1], 2)}%\")"
   ]
  },
  {
   "cell_type": "code",
   "execution_count": 8,
   "id": "56c6bfa4-945e-47a9-8de3-b9ecc806071a",
   "metadata": {},
   "outputs": [],
   "source": [
    "# 6.\n",
    "def print_updated_inventory(inventory):\n",
    "    print(\"Inventory:\")\n",
    "    for (product, quantity) in inventory.items():\n",
    "        print(f\"{product}: {quantity}\")"
   ]
  },
  {
   "cell_type": "code",
   "execution_count": 9,
   "id": "573caecb-3c3f-427d-9dee-486f27dac762",
   "metadata": {},
   "outputs": [
    {
     "name": "stdin",
     "output_type": "stream",
     "text": [
      "t-shirt quantity: 3\n",
      "mug quantity: 4\n",
      "hat quantity: 1\n",
      "book quantity: 2\n",
      "keychain quantity: 5\n"
     ]
    }
   ],
   "source": [
    "# 7a.\n",
    "products = [\"t-shirt\", \"mug\", \"hat\", \"book\", \"keychain\"]\n",
    "inventory = initialize_inventory(products)"
   ]
  },
  {
   "cell_type": "code",
   "execution_count": 10,
   "id": "d6a7c9c6-82eb-4372-a493-b81f52f1745e",
   "metadata": {},
   "outputs": [
    {
     "name": "stdin",
     "output_type": "stream",
     "text": [
      "Enter a product to order: mug\n"
     ]
    },
    {
     "name": "stdout",
     "output_type": "stream",
     "text": [
      "mug added to cart\n"
     ]
    },
    {
     "name": "stdin",
     "output_type": "stream",
     "text": [
      "Do you want to add more products? (yes/no) yes\n",
      "Enter a product to order: pants\n"
     ]
    },
    {
     "name": "stdout",
     "output_type": "stream",
     "text": [
      "pants does not exist\n"
     ]
    },
    {
     "name": "stdin",
     "output_type": "stream",
     "text": [
      "Do you want to add more products? (yes/no) yes\n",
      "Enter a product to order: book\n"
     ]
    },
    {
     "name": "stdout",
     "output_type": "stream",
     "text": [
      "book added to cart\n"
     ]
    },
    {
     "name": "stdin",
     "output_type": "stream",
     "text": [
      "Do you want to add more products? (yes/no) no\n"
     ]
    }
   ],
   "source": [
    "# 7b.\n",
    "customer_orders = get_customer_orders()"
   ]
  },
  {
   "cell_type": "code",
   "execution_count": 11,
   "id": "aab8ca0b-0e6f-4396-9435-a3b26fa8d27e",
   "metadata": {},
   "outputs": [
    {
     "name": "stdout",
     "output_type": "stream",
     "text": [
      "Order Statistics:\n",
      "Total Products Ordered: 2\n",
      "Percentage of Products Ordered: 0.4%\n",
      "\n",
      "Inventory:\n",
      "t-shirt: 3\n",
      "mug: 3\n",
      "hat: 1\n",
      "book: 1\n",
      "keychain: 5\n"
     ]
    }
   ],
   "source": [
    "update_inventory(customer_orders, inventory)\n",
    "order_status = calculate_order_statistics(customer_orders, products)\n",
    "print_order_statistics(order_status)\n",
    "print()\n",
    "print_updated_inventory(inventory)"
   ]
  }
 ],
 "metadata": {
  "kernelspec": {
   "display_name": "Python 3 (ipykernel)",
   "language": "python",
   "name": "python3"
  },
  "language_info": {
   "codemirror_mode": {
    "name": "ipython",
    "version": 3
   },
   "file_extension": ".py",
   "mimetype": "text/x-python",
   "name": "python",
   "nbconvert_exporter": "python",
   "pygments_lexer": "ipython3",
   "version": "3.12.4"
  }
 },
 "nbformat": 4,
 "nbformat_minor": 5
}
